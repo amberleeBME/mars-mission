{
 "cells": [
  {
   "cell_type": "code",
   "execution_count": 1,
   "source": [
    "# Import Dependencies\r\n",
    "import pandas as pd\r\n",
    "import requests\r\n",
    "from splinter import Browser\r\n",
    "from bs4 import BeautifulSoup as bs\r\n",
    "from webdriver_manager.chrome import ChromeDriverManager\r\n"
   ],
   "outputs": [],
   "metadata": {}
  },
  {
   "cell_type": "markdown",
   "source": [
    "## NASA Mars News\r\n",
    "1. Scrape the Mars News Site\r\n",
    "2. Collect the latest News Title and Paragraph Text\r\n",
    "3. Assign the text to variables for reference later"
   ],
   "metadata": {}
  },
  {
   "cell_type": "code",
   "execution_count": 2,
   "source": [
    "executable_path = {'executable_path': ChromeDriverManager().install()}\r\n",
    "browser = Browser('chrome', **executable_path, headless=False)\r\n",
    "url = 'http://redplanetscience.com'\r\n",
    "browser.visit(url)\r\n",
    "soup = bs(browser.html, 'lxml')"
   ],
   "outputs": [
    {
     "output_type": "stream",
     "name": "stderr",
     "text": [
      "\n",
      "\n",
      "====== WebDriver manager ======\n",
      "Current google-chrome version is 93.0.4577\n",
      "Get LATEST driver version for 93.0.4577\n",
      "Driver [C:\\Users\\amber\\.wdm\\drivers\\chromedriver\\win32\\93.0.4577.63\\chromedriver.exe] found in cache\n"
     ]
    }
   ],
   "metadata": {}
  },
  {
   "cell_type": "code",
   "execution_count": 3,
   "source": [
    "latestTitle=soup.find_all('div',class_=\"content_title\")[0].text\r\n",
    "latestTeaser=soup.find_all('div',class_=\"article_teaser_body\")[0].text\r\n",
    "print(latestTitle)\r\n",
    "print(latestTeaser)"
   ],
   "outputs": [
    {
     "output_type": "stream",
     "name": "stdout",
     "text": [
      "NASA's InSight 'Hears' Peculiar Sounds on Mars\n",
      "Listen to the marsquakes and other, less-expected sounds that the Mars lander has been detecting.\n"
     ]
    }
   ],
   "metadata": {}
  },
  {
   "cell_type": "markdown",
   "source": [
    "## JPL Mars Space Images - Featured Image\r\n",
    "1. Use splinter to navigate the Featured Space Image site\r\n",
    "2. Find the image url for the current Featured Mars Image\r\n",
    "3. Assign the url string to a variable called featured_image_url.\r\n",
    "* Make sure to find the image url to the full size .jpg image.\r\n",
    "* Make sure to save a complete url string for this image."
   ],
   "metadata": {}
  },
  {
   "cell_type": "code",
   "execution_count": 4,
   "source": [
    "url = 'https://spaceimages-mars.com'\r\n",
    "browser.visit(url)\r\n",
    "soup = bs(browser.html, 'lxml')"
   ],
   "outputs": [],
   "metadata": {}
  },
  {
   "cell_type": "code",
   "execution_count": 5,
   "source": [
    "partial_url = soup.find('a',class_='showimg fancybox-thumbs')['href']\r\n",
    "featured_image_url=url +'/'+partial_url\r\n",
    "print(featured_image_url)\r\n",
    "browser.quit()"
   ],
   "outputs": [
    {
     "output_type": "stream",
     "name": "stdout",
     "text": [
      "https://spaceimages-mars.com/image/featured/mars2.jpg\n"
     ]
    }
   ],
   "metadata": {}
  },
  {
   "cell_type": "markdown",
   "source": [
    "## Mars Facts\r\n",
    "1. Visit the Mars Facts webpage and use Pandas to scrape the table containing facts about the planet including Diameter, Mass, etc.\r\n",
    "\r\n",
    "\r\n",
    "2. Use Pandas to convert the data to a HTML table string."
   ],
   "metadata": {}
  },
  {
   "cell_type": "code",
   "execution_count": 6,
   "source": [
    "url = 'https://galaxyfacts-mars.com'\r\n",
    "table = pd.read_html(url)[0]\r\n",
    "header = table.iloc[0]\r\n",
    "table = table[1:]\r\n",
    "ind=table[0].tolist()\r\n",
    "marsList = table[1].tolist()\r\n",
    "earthList = table[2].tolist()\r\n",
    "marsDict = {'Mars':marsList,\r\n",
    "            'Earth':earthList}\r\n",
    "table=pd.DataFrame(marsDict,index=ind)\r\n",
    "table"
   ],
   "outputs": [
    {
     "output_type": "execute_result",
     "data": {
      "text/html": [
       "<div>\n",
       "<style scoped>\n",
       "    .dataframe tbody tr th:only-of-type {\n",
       "        vertical-align: middle;\n",
       "    }\n",
       "\n",
       "    .dataframe tbody tr th {\n",
       "        vertical-align: top;\n",
       "    }\n",
       "\n",
       "    .dataframe thead th {\n",
       "        text-align: right;\n",
       "    }\n",
       "</style>\n",
       "<table border=\"1\" class=\"dataframe\">\n",
       "  <thead>\n",
       "    <tr style=\"text-align: right;\">\n",
       "      <th></th>\n",
       "      <th>Mars</th>\n",
       "      <th>Earth</th>\n",
       "    </tr>\n",
       "  </thead>\n",
       "  <tbody>\n",
       "    <tr>\n",
       "      <th>Diameter:</th>\n",
       "      <td>6,779 km</td>\n",
       "      <td>12,742 km</td>\n",
       "    </tr>\n",
       "    <tr>\n",
       "      <th>Mass:</th>\n",
       "      <td>6.39 × 10^23 kg</td>\n",
       "      <td>5.97 × 10^24 kg</td>\n",
       "    </tr>\n",
       "    <tr>\n",
       "      <th>Moons:</th>\n",
       "      <td>2</td>\n",
       "      <td>1</td>\n",
       "    </tr>\n",
       "    <tr>\n",
       "      <th>Distance from Sun:</th>\n",
       "      <td>227,943,824 km</td>\n",
       "      <td>149,598,262 km</td>\n",
       "    </tr>\n",
       "    <tr>\n",
       "      <th>Length of Year:</th>\n",
       "      <td>687 Earth days</td>\n",
       "      <td>365.24 days</td>\n",
       "    </tr>\n",
       "    <tr>\n",
       "      <th>Temperature:</th>\n",
       "      <td>-87 to -5 °C</td>\n",
       "      <td>-88 to 58°C</td>\n",
       "    </tr>\n",
       "  </tbody>\n",
       "</table>\n",
       "</div>"
      ],
      "text/plain": [
       "                               Mars            Earth\n",
       "Diameter:                  6,779 km        12,742 km\n",
       "Mass:               6.39 × 10^23 kg  5.97 × 10^24 kg\n",
       "Moons:                            2                1\n",
       "Distance from Sun:   227,943,824 km   149,598,262 km\n",
       "Length of Year:      687 Earth days      365.24 days\n",
       "Temperature:           -87 to -5 °C      -88 to 58°C"
      ]
     },
     "metadata": {},
     "execution_count": 6
    }
   ],
   "metadata": {}
  },
  {
   "cell_type": "code",
   "execution_count": 7,
   "source": [
    "html_table= table.to_html()\r\n",
    "html_table=html_table.replace('\\n', '')\r\n",
    "html_table"
   ],
   "outputs": [
    {
     "output_type": "execute_result",
     "data": {
      "text/plain": [
       "'<table border=\"1\" class=\"dataframe\">  <thead>    <tr style=\"text-align: right;\">      <th></th>      <th>Mars</th>      <th>Earth</th>    </tr>  </thead>  <tbody>    <tr>      <th>Diameter:</th>      <td>6,779 km</td>      <td>12,742 km</td>    </tr>    <tr>      <th>Mass:</th>      <td>6.39 × 10^23 kg</td>      <td>5.97 × 10^24 kg</td>    </tr>    <tr>      <th>Moons:</th>      <td>2</td>      <td>1</td>    </tr>    <tr>      <th>Distance from Sun:</th>      <td>227,943,824 km</td>      <td>149,598,262 km</td>    </tr>    <tr>      <th>Length of Year:</th>      <td>687 Earth days</td>      <td>365.24 days</td>    </tr>    <tr>      <th>Temperature:</th>      <td>-87 to -5 °C</td>      <td>-88 to 58°C</td>    </tr>  </tbody></table>'"
      ]
     },
     "metadata": {},
     "execution_count": 7
    }
   ],
   "metadata": {}
  },
  {
   "cell_type": "markdown",
   "source": [
    "## Mars Hemispheres\r\n",
    "1. Visit the astrogeology site  to obtain high resolution images for each of Mar's hemispheres.\r\n",
    "You will need to click each of the links to the hemispheres in order to find the image url to the full resolution image.\r\n",
    "2. Save both the image url string for the full resolution hemisphere image, and the Hemisphere title containing the hemisphere name. Use a Python dictionary to store the data using the keys img_url and title.\r\n",
    "3. Append the dictionary with the image url string and the hemisphere title to a list. This list will contain one dictionary for each hemisphere."
   ],
   "metadata": {}
  },
  {
   "cell_type": "code",
   "execution_count": 8,
   "source": [
    "url = 'https://marshemispheres.com/'\r\n",
    "response = requests.get(url)\r\n",
    "soup = bs(response.text, 'lxml')\r\n",
    "results = soup.find_all('div', class_='description')"
   ],
   "outputs": [],
   "metadata": {}
  },
  {
   "cell_type": "code",
   "execution_count": 13,
   "source": [
    "hemisphere_image_urls=[]\r\n",
    "for each in results:\r\n",
    "    title = each.h3.text    \r\n",
    "    response = requests.get(f'https://marshemispheres.com/{each.a[\"href\"]}')\r\n",
    "    soup = bs(response.text,'lxml')\r\n",
    "    hemiResult=soup.find_all('li')[0].a['href']\r\n",
    "    hemisphere_image_urls.append({\r\n",
    "        \"title\":title[0:-9],\r\n",
    "        \"img_url\":f'https://marshemispheres.com/{hemiResult}'\r\n",
    "        })\r\n",
    "print(hemisphere_image_urls)\r\n"
   ],
   "outputs": [
    {
     "output_type": "stream",
     "name": "stdout",
     "text": [
      "[{'title': 'Cerberus Hemisphere', 'img_url': 'https://marshemispheres.com/images/full.jpg'}, {'title': 'Schiaparelli Hemisphere', 'img_url': 'https://marshemispheres.com/images/schiaparelli_enhanced-full.jpg'}, {'title': 'Syrtis Major Hemisphere', 'img_url': 'https://marshemispheres.com/images/syrtis_major_enhanced-full.jpg'}, {'title': 'Valles Marineris Hemisphere', 'img_url': 'https://marshemispheres.com/images/valles_marineris_enhanced-full.jpg'}]\n"
     ]
    }
   ],
   "metadata": {}
  }
 ],
 "metadata": {
  "orig_nbformat": 4,
  "language_info": {
   "name": "python",
   "version": "3.6.13",
   "mimetype": "text/x-python",
   "codemirror_mode": {
    "name": "ipython",
    "version": 3
   },
   "pygments_lexer": "ipython3",
   "nbconvert_exporter": "python",
   "file_extension": ".py"
  },
  "kernelspec": {
   "name": "python3",
   "display_name": "Python 3.6.13 64-bit ('PythonData': conda)"
  },
  "interpreter": {
   "hash": "b3d170011c39922df11dfe6356c1e8bf7818e6e795fb3a7489da71072c7e5fb6"
  }
 },
 "nbformat": 4,
 "nbformat_minor": 2
}