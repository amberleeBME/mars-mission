{
 "cells": [
  {
   "cell_type": "code",
   "execution_count": null,
   "source": [
    "# Import Dependencies\r\n",
    "import pandas as pd\r\n",
    "import requests\r\n",
    "import pymongo\r\n",
    "from splinter import Browser\r\n",
    "from bs4 import BeautifulSoup as bs\r\n",
    "from webdriver_manager.chrome import ChromeDriverManager"
   ],
   "outputs": [],
   "metadata": {}
  },
  {
   "cell_type": "markdown",
   "source": [
    "## NASA Mars News\r\n",
    "1. Scrape the Mars News Site\r\n",
    "2. Collect the latest News Title and Paragraph Text\r\n",
    "3. Assign the text to variables for reference later"
   ],
   "metadata": {}
  },
  {
   "cell_type": "code",
   "execution_count": null,
   "source": [
    "executable_path = {'executable_path': ChromeDriverManager().install()}\r\n",
    "browser = Browser('chrome', **executable_path, headless=False)\r\n",
    "url = 'https://redplanetscience.com'\r\n",
    "browser.visit(url)\r\n",
    "soup = bs(browser.html, 'lxml')"
   ],
   "outputs": [],
   "metadata": {}
  },
  {
   "cell_type": "code",
   "execution_count": null,
   "source": [
    "latestTitle=soup.find_all('div',class_=\"content_title\")[0].text\r\n",
    "latestTeaser=soup.find_all('div',class_=\"article_teaser_body\")[0].text\r\n",
    "print(latestTitle)\r\n",
    "print(latestTeaser)\r\n",
    "browser.quit()"
   ],
   "outputs": [],
   "metadata": {}
  },
  {
   "cell_type": "markdown",
   "source": [
    "## JPL Mars Space Images - Featured Image\r\n",
    "1. Use splinter to navigate the Featured Space Image site\r\n",
    "2. Find the image url for the current Featured Mars Image\r\n",
    "3. Assign the url string to a variable called featured_image_url.\r\n",
    "* Make sure to find the image url to the full size .jpg image.\r\n",
    "* Make sure to save a complete url string for this image."
   ],
   "metadata": {}
  },
  {
   "cell_type": "markdown",
   "source": [
    "## Mars Facts\r\n",
    "1. Visit the Mars Facts webpage and use Pandas to scrape the table containing facts about the planet including Diameter, Mass, etc.\r\n",
    "\r\n",
    "\r\n",
    "2. Use Pandas to convert the data to a HTML table string."
   ],
   "metadata": {}
  },
  {
   "cell_type": "markdown",
   "source": [
    "## Mars Hemispheres\r\n",
    "1. Visit the astrogeology site  to obtain high resolution images for each of Mar's hemispheres.\r\n",
    "You will need to click each of the links to the hemispheres in order to find the image url to the full resolution image.\r\n",
    "2. Save both the image url string for the full resolution hemisphere image, and the Hemisphere title containing the hemisphere name. Use a Python dictionary to store the data using the keys img_url and title.\r\n",
    "3. Append the dictionary with the image url string and the hemisphere title to a list. This list will contain one dictionary for each hemisphere."
   ],
   "metadata": {}
  }
 ],
 "metadata": {
  "orig_nbformat": 4,
  "language_info": {
   "name": "python",
   "version": "3.6.13",
   "mimetype": "text/x-python",
   "codemirror_mode": {
    "name": "ipython",
    "version": 3
   },
   "pygments_lexer": "ipython3",
   "nbconvert_exporter": "python",
   "file_extension": ".py"
  },
  "kernelspec": {
   "name": "python3",
   "display_name": "Python 3.6.13 64-bit ('PythonData': conda)"
  },
  "interpreter": {
   "hash": "b3d170011c39922df11dfe6356c1e8bf7818e6e795fb3a7489da71072c7e5fb6"
  }
 },
 "nbformat": 4,
 "nbformat_minor": 2
}